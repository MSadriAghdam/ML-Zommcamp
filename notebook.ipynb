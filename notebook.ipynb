{
 "cells": [
  {
   "cell_type": "code",
   "execution_count": 1,
   "metadata": {},
   "outputs": [],
   "source": [
    "import matplotlib.pyplot as plt\n",
    "import seaborn as sns\n",
    "from datetime import datetime as dt\n",
    "import datetime\n",
    "import re\n",
    "import numpy as np\n",
    "import pandas as pd\n",
    "from sklearn.cluster import KMeans\n",
    "from matplotlib.pyplot import figure\n",
    "from yellowbrick.cluster import KElbowVisualizer\n",
    "from numpy import unique\n",
    "from numpy import where\n",
    "sns.set()"
   ]
  },
  {
   "cell_type": "code",
   "execution_count": 2,
   "metadata": {},
   "outputs": [
    {
     "data": {
      "text/html": [
       "<div>\n",
       "<style scoped>\n",
       "    .dataframe tbody tr th:only-of-type {\n",
       "        vertical-align: middle;\n",
       "    }\n",
       "\n",
       "    .dataframe tbody tr th {\n",
       "        vertical-align: top;\n",
       "    }\n",
       "\n",
       "    .dataframe thead th {\n",
       "        text-align: right;\n",
       "    }\n",
       "</style>\n",
       "<table border=\"1\" class=\"dataframe\">\n",
       "  <thead>\n",
       "    <tr style=\"text-align: right;\">\n",
       "      <th></th>\n",
       "      <th>ID</th>\n",
       "      <th>Year_Birth</th>\n",
       "      <th>Education</th>\n",
       "      <th>Marital_Status</th>\n",
       "      <th>Income</th>\n",
       "      <th>Kidhome</th>\n",
       "      <th>Teenhome</th>\n",
       "      <th>Dt_Customer</th>\n",
       "      <th>Recency</th>\n",
       "      <th>MntWines</th>\n",
       "      <th>MntFruits</th>\n",
       "      <th>MntMeatProducts</th>\n",
       "      <th>MntFishProducts</th>\n",
       "      <th>MntSweetProducts</th>\n",
       "      <th>MntGoldProds</th>\n",
       "      <th>NumDealsPurchases</th>\n",
       "      <th>NumWebPurchases</th>\n",
       "      <th>NumCatalogPurchases</th>\n",
       "      <th>NumStorePurchases</th>\n",
       "      <th>NumWebVisitsMonth</th>\n",
       "      <th>AcceptedCmp3</th>\n",
       "      <th>AcceptedCmp4</th>\n",
       "      <th>AcceptedCmp5</th>\n",
       "      <th>AcceptedCmp1</th>\n",
       "      <th>AcceptedCmp2</th>\n",
       "      <th>Complain</th>\n",
       "      <th>Z_CostContact</th>\n",
       "      <th>Z_Revenue</th>\n",
       "      <th>Response</th>\n",
       "    </tr>\n",
       "  </thead>\n",
       "  <tbody>\n",
       "    <tr>\n",
       "      <th>0</th>\n",
       "      <td>5524</td>\n",
       "      <td>1957</td>\n",
       "      <td>Graduation</td>\n",
       "      <td>Single</td>\n",
       "      <td>58138.0</td>\n",
       "      <td>0</td>\n",
       "      <td>0</td>\n",
       "      <td>04-09-2012</td>\n",
       "      <td>58</td>\n",
       "      <td>635</td>\n",
       "      <td>88</td>\n",
       "      <td>546</td>\n",
       "      <td>172</td>\n",
       "      <td>88</td>\n",
       "      <td>88</td>\n",
       "      <td>3</td>\n",
       "      <td>8</td>\n",
       "      <td>10</td>\n",
       "      <td>4</td>\n",
       "      <td>7</td>\n",
       "      <td>0</td>\n",
       "      <td>0</td>\n",
       "      <td>0</td>\n",
       "      <td>0</td>\n",
       "      <td>0</td>\n",
       "      <td>0</td>\n",
       "      <td>3</td>\n",
       "      <td>11</td>\n",
       "      <td>1</td>\n",
       "    </tr>\n",
       "    <tr>\n",
       "      <th>1</th>\n",
       "      <td>2174</td>\n",
       "      <td>1954</td>\n",
       "      <td>Graduation</td>\n",
       "      <td>Single</td>\n",
       "      <td>46344.0</td>\n",
       "      <td>1</td>\n",
       "      <td>1</td>\n",
       "      <td>08-03-2014</td>\n",
       "      <td>38</td>\n",
       "      <td>11</td>\n",
       "      <td>1</td>\n",
       "      <td>6</td>\n",
       "      <td>2</td>\n",
       "      <td>1</td>\n",
       "      <td>6</td>\n",
       "      <td>2</td>\n",
       "      <td>1</td>\n",
       "      <td>1</td>\n",
       "      <td>2</td>\n",
       "      <td>5</td>\n",
       "      <td>0</td>\n",
       "      <td>0</td>\n",
       "      <td>0</td>\n",
       "      <td>0</td>\n",
       "      <td>0</td>\n",
       "      <td>0</td>\n",
       "      <td>3</td>\n",
       "      <td>11</td>\n",
       "      <td>0</td>\n",
       "    </tr>\n",
       "    <tr>\n",
       "      <th>2</th>\n",
       "      <td>4141</td>\n",
       "      <td>1965</td>\n",
       "      <td>Graduation</td>\n",
       "      <td>Together</td>\n",
       "      <td>71613.0</td>\n",
       "      <td>0</td>\n",
       "      <td>0</td>\n",
       "      <td>21-08-2013</td>\n",
       "      <td>26</td>\n",
       "      <td>426</td>\n",
       "      <td>49</td>\n",
       "      <td>127</td>\n",
       "      <td>111</td>\n",
       "      <td>21</td>\n",
       "      <td>42</td>\n",
       "      <td>1</td>\n",
       "      <td>8</td>\n",
       "      <td>2</td>\n",
       "      <td>10</td>\n",
       "      <td>4</td>\n",
       "      <td>0</td>\n",
       "      <td>0</td>\n",
       "      <td>0</td>\n",
       "      <td>0</td>\n",
       "      <td>0</td>\n",
       "      <td>0</td>\n",
       "      <td>3</td>\n",
       "      <td>11</td>\n",
       "      <td>0</td>\n",
       "    </tr>\n",
       "    <tr>\n",
       "      <th>3</th>\n",
       "      <td>6182</td>\n",
       "      <td>1984</td>\n",
       "      <td>Graduation</td>\n",
       "      <td>Together</td>\n",
       "      <td>26646.0</td>\n",
       "      <td>1</td>\n",
       "      <td>0</td>\n",
       "      <td>10-02-2014</td>\n",
       "      <td>26</td>\n",
       "      <td>11</td>\n",
       "      <td>4</td>\n",
       "      <td>20</td>\n",
       "      <td>10</td>\n",
       "      <td>3</td>\n",
       "      <td>5</td>\n",
       "      <td>2</td>\n",
       "      <td>2</td>\n",
       "      <td>0</td>\n",
       "      <td>4</td>\n",
       "      <td>6</td>\n",
       "      <td>0</td>\n",
       "      <td>0</td>\n",
       "      <td>0</td>\n",
       "      <td>0</td>\n",
       "      <td>0</td>\n",
       "      <td>0</td>\n",
       "      <td>3</td>\n",
       "      <td>11</td>\n",
       "      <td>0</td>\n",
       "    </tr>\n",
       "    <tr>\n",
       "      <th>4</th>\n",
       "      <td>5324</td>\n",
       "      <td>1981</td>\n",
       "      <td>PhD</td>\n",
       "      <td>Married</td>\n",
       "      <td>58293.0</td>\n",
       "      <td>1</td>\n",
       "      <td>0</td>\n",
       "      <td>19-01-2014</td>\n",
       "      <td>94</td>\n",
       "      <td>173</td>\n",
       "      <td>43</td>\n",
       "      <td>118</td>\n",
       "      <td>46</td>\n",
       "      <td>27</td>\n",
       "      <td>15</td>\n",
       "      <td>5</td>\n",
       "      <td>5</td>\n",
       "      <td>3</td>\n",
       "      <td>6</td>\n",
       "      <td>5</td>\n",
       "      <td>0</td>\n",
       "      <td>0</td>\n",
       "      <td>0</td>\n",
       "      <td>0</td>\n",
       "      <td>0</td>\n",
       "      <td>0</td>\n",
       "      <td>3</td>\n",
       "      <td>11</td>\n",
       "      <td>0</td>\n",
       "    </tr>\n",
       "  </tbody>\n",
       "</table>\n",
       "</div>"
      ],
      "text/plain": [
       "     ID  Year_Birth   Education Marital_Status   Income  Kidhome  Teenhome  \\\n",
       "0  5524        1957  Graduation         Single  58138.0        0         0   \n",
       "1  2174        1954  Graduation         Single  46344.0        1         1   \n",
       "2  4141        1965  Graduation       Together  71613.0        0         0   \n",
       "3  6182        1984  Graduation       Together  26646.0        1         0   \n",
       "4  5324        1981         PhD        Married  58293.0        1         0   \n",
       "\n",
       "  Dt_Customer  Recency  MntWines  MntFruits  MntMeatProducts  MntFishProducts  \\\n",
       "0  04-09-2012       58       635         88              546              172   \n",
       "1  08-03-2014       38        11          1                6                2   \n",
       "2  21-08-2013       26       426         49              127              111   \n",
       "3  10-02-2014       26        11          4               20               10   \n",
       "4  19-01-2014       94       173         43              118               46   \n",
       "\n",
       "   MntSweetProducts  MntGoldProds  NumDealsPurchases  NumWebPurchases  \\\n",
       "0                88            88                  3                8   \n",
       "1                 1             6                  2                1   \n",
       "2                21            42                  1                8   \n",
       "3                 3             5                  2                2   \n",
       "4                27            15                  5                5   \n",
       "\n",
       "   NumCatalogPurchases  NumStorePurchases  NumWebVisitsMonth  AcceptedCmp3  \\\n",
       "0                   10                  4                  7             0   \n",
       "1                    1                  2                  5             0   \n",
       "2                    2                 10                  4             0   \n",
       "3                    0                  4                  6             0   \n",
       "4                    3                  6                  5             0   \n",
       "\n",
       "   AcceptedCmp4  AcceptedCmp5  AcceptedCmp1  AcceptedCmp2  Complain  \\\n",
       "0             0             0             0             0         0   \n",
       "1             0             0             0             0         0   \n",
       "2             0             0             0             0         0   \n",
       "3             0             0             0             0         0   \n",
       "4             0             0             0             0         0   \n",
       "\n",
       "   Z_CostContact  Z_Revenue  Response  \n",
       "0              3         11         1  \n",
       "1              3         11         0  \n",
       "2              3         11         0  \n",
       "3              3         11         0  \n",
       "4              3         11         0  "
      ]
     },
     "execution_count": 2,
     "metadata": {},
     "output_type": "execute_result"
    }
   ],
   "source": [
    "pd.set_option('display.max_columns', None)\n",
    "df =pd.read_csv(\"marketing_campaign.csv\", sep=\"\\t\")\n",
    "df.head()"
   ]
  },
  {
   "cell_type": "code",
   "execution_count": 3,
   "metadata": {},
   "outputs": [],
   "source": [
    "df.columns = df.columns.str.lower()"
   ]
  },
  {
   "cell_type": "markdown",
   "metadata": {},
   "source": [
    "## Exploratory data analysis (EDA)"
   ]
  },
  {
   "cell_type": "code",
   "execution_count": 4,
   "metadata": {},
   "outputs": [
    {
     "data": {
      "text/plain": [
       "(2240, 29)"
      ]
     },
     "execution_count": 4,
     "metadata": {},
     "output_type": "execute_result"
    }
   ],
   "source": [
    "df.shape"
   ]
  },
  {
   "cell_type": "code",
   "execution_count": 5,
   "metadata": {},
   "outputs": [
    {
     "data": {
      "text/html": [
       "<div>\n",
       "<style scoped>\n",
       "    .dataframe tbody tr th:only-of-type {\n",
       "        vertical-align: middle;\n",
       "    }\n",
       "\n",
       "    .dataframe tbody tr th {\n",
       "        vertical-align: top;\n",
       "    }\n",
       "\n",
       "    .dataframe thead th {\n",
       "        text-align: right;\n",
       "    }\n",
       "</style>\n",
       "<table border=\"1\" class=\"dataframe\">\n",
       "  <thead>\n",
       "    <tr style=\"text-align: right;\">\n",
       "      <th></th>\n",
       "      <th>id</th>\n",
       "      <th>year_birth</th>\n",
       "      <th>income</th>\n",
       "      <th>kidhome</th>\n",
       "      <th>teenhome</th>\n",
       "      <th>recency</th>\n",
       "      <th>mntwines</th>\n",
       "      <th>mntfruits</th>\n",
       "      <th>mntmeatproducts</th>\n",
       "      <th>mntfishproducts</th>\n",
       "      <th>mntsweetproducts</th>\n",
       "      <th>mntgoldprods</th>\n",
       "      <th>numdealspurchases</th>\n",
       "      <th>numwebpurchases</th>\n",
       "      <th>numcatalogpurchases</th>\n",
       "      <th>numstorepurchases</th>\n",
       "      <th>numwebvisitsmonth</th>\n",
       "      <th>acceptedcmp3</th>\n",
       "      <th>acceptedcmp4</th>\n",
       "      <th>acceptedcmp5</th>\n",
       "      <th>acceptedcmp1</th>\n",
       "      <th>acceptedcmp2</th>\n",
       "      <th>complain</th>\n",
       "      <th>z_costcontact</th>\n",
       "      <th>z_revenue</th>\n",
       "      <th>response</th>\n",
       "    </tr>\n",
       "  </thead>\n",
       "  <tbody>\n",
       "    <tr>\n",
       "      <th>count</th>\n",
       "      <td>2240.000000</td>\n",
       "      <td>2240.000000</td>\n",
       "      <td>2216.000000</td>\n",
       "      <td>2240.000000</td>\n",
       "      <td>2240.000000</td>\n",
       "      <td>2240.000000</td>\n",
       "      <td>2240.000000</td>\n",
       "      <td>2240.000000</td>\n",
       "      <td>2240.000000</td>\n",
       "      <td>2240.000000</td>\n",
       "      <td>2240.000000</td>\n",
       "      <td>2240.000000</td>\n",
       "      <td>2240.000000</td>\n",
       "      <td>2240.000000</td>\n",
       "      <td>2240.000000</td>\n",
       "      <td>2240.000000</td>\n",
       "      <td>2240.000000</td>\n",
       "      <td>2240.000000</td>\n",
       "      <td>2240.000000</td>\n",
       "      <td>2240.000000</td>\n",
       "      <td>2240.000000</td>\n",
       "      <td>2240.000000</td>\n",
       "      <td>2240.000000</td>\n",
       "      <td>2240.0</td>\n",
       "      <td>2240.0</td>\n",
       "      <td>2240.000000</td>\n",
       "    </tr>\n",
       "    <tr>\n",
       "      <th>mean</th>\n",
       "      <td>5592.159821</td>\n",
       "      <td>1968.805804</td>\n",
       "      <td>52247.251354</td>\n",
       "      <td>0.444196</td>\n",
       "      <td>0.506250</td>\n",
       "      <td>49.109375</td>\n",
       "      <td>303.935714</td>\n",
       "      <td>26.302232</td>\n",
       "      <td>166.950000</td>\n",
       "      <td>37.525446</td>\n",
       "      <td>27.062946</td>\n",
       "      <td>44.021875</td>\n",
       "      <td>2.325000</td>\n",
       "      <td>4.084821</td>\n",
       "      <td>2.662054</td>\n",
       "      <td>5.790179</td>\n",
       "      <td>5.316518</td>\n",
       "      <td>0.072768</td>\n",
       "      <td>0.074554</td>\n",
       "      <td>0.072768</td>\n",
       "      <td>0.064286</td>\n",
       "      <td>0.013393</td>\n",
       "      <td>0.009375</td>\n",
       "      <td>3.0</td>\n",
       "      <td>11.0</td>\n",
       "      <td>0.149107</td>\n",
       "    </tr>\n",
       "    <tr>\n",
       "      <th>std</th>\n",
       "      <td>3246.662198</td>\n",
       "      <td>11.984069</td>\n",
       "      <td>25173.076661</td>\n",
       "      <td>0.538398</td>\n",
       "      <td>0.544538</td>\n",
       "      <td>28.962453</td>\n",
       "      <td>336.597393</td>\n",
       "      <td>39.773434</td>\n",
       "      <td>225.715373</td>\n",
       "      <td>54.628979</td>\n",
       "      <td>41.280498</td>\n",
       "      <td>52.167439</td>\n",
       "      <td>1.932238</td>\n",
       "      <td>2.778714</td>\n",
       "      <td>2.923101</td>\n",
       "      <td>3.250958</td>\n",
       "      <td>2.426645</td>\n",
       "      <td>0.259813</td>\n",
       "      <td>0.262728</td>\n",
       "      <td>0.259813</td>\n",
       "      <td>0.245316</td>\n",
       "      <td>0.114976</td>\n",
       "      <td>0.096391</td>\n",
       "      <td>0.0</td>\n",
       "      <td>0.0</td>\n",
       "      <td>0.356274</td>\n",
       "    </tr>\n",
       "    <tr>\n",
       "      <th>min</th>\n",
       "      <td>0.000000</td>\n",
       "      <td>1893.000000</td>\n",
       "      <td>1730.000000</td>\n",
       "      <td>0.000000</td>\n",
       "      <td>0.000000</td>\n",
       "      <td>0.000000</td>\n",
       "      <td>0.000000</td>\n",
       "      <td>0.000000</td>\n",
       "      <td>0.000000</td>\n",
       "      <td>0.000000</td>\n",
       "      <td>0.000000</td>\n",
       "      <td>0.000000</td>\n",
       "      <td>0.000000</td>\n",
       "      <td>0.000000</td>\n",
       "      <td>0.000000</td>\n",
       "      <td>0.000000</td>\n",
       "      <td>0.000000</td>\n",
       "      <td>0.000000</td>\n",
       "      <td>0.000000</td>\n",
       "      <td>0.000000</td>\n",
       "      <td>0.000000</td>\n",
       "      <td>0.000000</td>\n",
       "      <td>0.000000</td>\n",
       "      <td>3.0</td>\n",
       "      <td>11.0</td>\n",
       "      <td>0.000000</td>\n",
       "    </tr>\n",
       "    <tr>\n",
       "      <th>25%</th>\n",
       "      <td>2828.250000</td>\n",
       "      <td>1959.000000</td>\n",
       "      <td>35303.000000</td>\n",
       "      <td>0.000000</td>\n",
       "      <td>0.000000</td>\n",
       "      <td>24.000000</td>\n",
       "      <td>23.750000</td>\n",
       "      <td>1.000000</td>\n",
       "      <td>16.000000</td>\n",
       "      <td>3.000000</td>\n",
       "      <td>1.000000</td>\n",
       "      <td>9.000000</td>\n",
       "      <td>1.000000</td>\n",
       "      <td>2.000000</td>\n",
       "      <td>0.000000</td>\n",
       "      <td>3.000000</td>\n",
       "      <td>3.000000</td>\n",
       "      <td>0.000000</td>\n",
       "      <td>0.000000</td>\n",
       "      <td>0.000000</td>\n",
       "      <td>0.000000</td>\n",
       "      <td>0.000000</td>\n",
       "      <td>0.000000</td>\n",
       "      <td>3.0</td>\n",
       "      <td>11.0</td>\n",
       "      <td>0.000000</td>\n",
       "    </tr>\n",
       "    <tr>\n",
       "      <th>50%</th>\n",
       "      <td>5458.500000</td>\n",
       "      <td>1970.000000</td>\n",
       "      <td>51381.500000</td>\n",
       "      <td>0.000000</td>\n",
       "      <td>0.000000</td>\n",
       "      <td>49.000000</td>\n",
       "      <td>173.500000</td>\n",
       "      <td>8.000000</td>\n",
       "      <td>67.000000</td>\n",
       "      <td>12.000000</td>\n",
       "      <td>8.000000</td>\n",
       "      <td>24.000000</td>\n",
       "      <td>2.000000</td>\n",
       "      <td>4.000000</td>\n",
       "      <td>2.000000</td>\n",
       "      <td>5.000000</td>\n",
       "      <td>6.000000</td>\n",
       "      <td>0.000000</td>\n",
       "      <td>0.000000</td>\n",
       "      <td>0.000000</td>\n",
       "      <td>0.000000</td>\n",
       "      <td>0.000000</td>\n",
       "      <td>0.000000</td>\n",
       "      <td>3.0</td>\n",
       "      <td>11.0</td>\n",
       "      <td>0.000000</td>\n",
       "    </tr>\n",
       "    <tr>\n",
       "      <th>75%</th>\n",
       "      <td>8427.750000</td>\n",
       "      <td>1977.000000</td>\n",
       "      <td>68522.000000</td>\n",
       "      <td>1.000000</td>\n",
       "      <td>1.000000</td>\n",
       "      <td>74.000000</td>\n",
       "      <td>504.250000</td>\n",
       "      <td>33.000000</td>\n",
       "      <td>232.000000</td>\n",
       "      <td>50.000000</td>\n",
       "      <td>33.000000</td>\n",
       "      <td>56.000000</td>\n",
       "      <td>3.000000</td>\n",
       "      <td>6.000000</td>\n",
       "      <td>4.000000</td>\n",
       "      <td>8.000000</td>\n",
       "      <td>7.000000</td>\n",
       "      <td>0.000000</td>\n",
       "      <td>0.000000</td>\n",
       "      <td>0.000000</td>\n",
       "      <td>0.000000</td>\n",
       "      <td>0.000000</td>\n",
       "      <td>0.000000</td>\n",
       "      <td>3.0</td>\n",
       "      <td>11.0</td>\n",
       "      <td>0.000000</td>\n",
       "    </tr>\n",
       "    <tr>\n",
       "      <th>max</th>\n",
       "      <td>11191.000000</td>\n",
       "      <td>1996.000000</td>\n",
       "      <td>666666.000000</td>\n",
       "      <td>2.000000</td>\n",
       "      <td>2.000000</td>\n",
       "      <td>99.000000</td>\n",
       "      <td>1493.000000</td>\n",
       "      <td>199.000000</td>\n",
       "      <td>1725.000000</td>\n",
       "      <td>259.000000</td>\n",
       "      <td>263.000000</td>\n",
       "      <td>362.000000</td>\n",
       "      <td>15.000000</td>\n",
       "      <td>27.000000</td>\n",
       "      <td>28.000000</td>\n",
       "      <td>13.000000</td>\n",
       "      <td>20.000000</td>\n",
       "      <td>1.000000</td>\n",
       "      <td>1.000000</td>\n",
       "      <td>1.000000</td>\n",
       "      <td>1.000000</td>\n",
       "      <td>1.000000</td>\n",
       "      <td>1.000000</td>\n",
       "      <td>3.0</td>\n",
       "      <td>11.0</td>\n",
       "      <td>1.000000</td>\n",
       "    </tr>\n",
       "  </tbody>\n",
       "</table>\n",
       "</div>"
      ],
      "text/plain": [
       "                 id   year_birth         income      kidhome     teenhome  \\\n",
       "count   2240.000000  2240.000000    2216.000000  2240.000000  2240.000000   \n",
       "mean    5592.159821  1968.805804   52247.251354     0.444196     0.506250   \n",
       "std     3246.662198    11.984069   25173.076661     0.538398     0.544538   \n",
       "min        0.000000  1893.000000    1730.000000     0.000000     0.000000   \n",
       "25%     2828.250000  1959.000000   35303.000000     0.000000     0.000000   \n",
       "50%     5458.500000  1970.000000   51381.500000     0.000000     0.000000   \n",
       "75%     8427.750000  1977.000000   68522.000000     1.000000     1.000000   \n",
       "max    11191.000000  1996.000000  666666.000000     2.000000     2.000000   \n",
       "\n",
       "           recency     mntwines    mntfruits  mntmeatproducts  \\\n",
       "count  2240.000000  2240.000000  2240.000000      2240.000000   \n",
       "mean     49.109375   303.935714    26.302232       166.950000   \n",
       "std      28.962453   336.597393    39.773434       225.715373   \n",
       "min       0.000000     0.000000     0.000000         0.000000   \n",
       "25%      24.000000    23.750000     1.000000        16.000000   \n",
       "50%      49.000000   173.500000     8.000000        67.000000   \n",
       "75%      74.000000   504.250000    33.000000       232.000000   \n",
       "max      99.000000  1493.000000   199.000000      1725.000000   \n",
       "\n",
       "       mntfishproducts  mntsweetproducts  mntgoldprods  numdealspurchases  \\\n",
       "count      2240.000000       2240.000000   2240.000000        2240.000000   \n",
       "mean         37.525446         27.062946     44.021875           2.325000   \n",
       "std          54.628979         41.280498     52.167439           1.932238   \n",
       "min           0.000000          0.000000      0.000000           0.000000   \n",
       "25%           3.000000          1.000000      9.000000           1.000000   \n",
       "50%          12.000000          8.000000     24.000000           2.000000   \n",
       "75%          50.000000         33.000000     56.000000           3.000000   \n",
       "max         259.000000        263.000000    362.000000          15.000000   \n",
       "\n",
       "       numwebpurchases  numcatalogpurchases  numstorepurchases  \\\n",
       "count      2240.000000          2240.000000        2240.000000   \n",
       "mean          4.084821             2.662054           5.790179   \n",
       "std           2.778714             2.923101           3.250958   \n",
       "min           0.000000             0.000000           0.000000   \n",
       "25%           2.000000             0.000000           3.000000   \n",
       "50%           4.000000             2.000000           5.000000   \n",
       "75%           6.000000             4.000000           8.000000   \n",
       "max          27.000000            28.000000          13.000000   \n",
       "\n",
       "       numwebvisitsmonth  acceptedcmp3  acceptedcmp4  acceptedcmp5  \\\n",
       "count        2240.000000   2240.000000   2240.000000   2240.000000   \n",
       "mean            5.316518      0.072768      0.074554      0.072768   \n",
       "std             2.426645      0.259813      0.262728      0.259813   \n",
       "min             0.000000      0.000000      0.000000      0.000000   \n",
       "25%             3.000000      0.000000      0.000000      0.000000   \n",
       "50%             6.000000      0.000000      0.000000      0.000000   \n",
       "75%             7.000000      0.000000      0.000000      0.000000   \n",
       "max            20.000000      1.000000      1.000000      1.000000   \n",
       "\n",
       "       acceptedcmp1  acceptedcmp2     complain  z_costcontact  z_revenue  \\\n",
       "count   2240.000000   2240.000000  2240.000000         2240.0     2240.0   \n",
       "mean       0.064286      0.013393     0.009375            3.0       11.0   \n",
       "std        0.245316      0.114976     0.096391            0.0        0.0   \n",
       "min        0.000000      0.000000     0.000000            3.0       11.0   \n",
       "25%        0.000000      0.000000     0.000000            3.0       11.0   \n",
       "50%        0.000000      0.000000     0.000000            3.0       11.0   \n",
       "75%        0.000000      0.000000     0.000000            3.0       11.0   \n",
       "max        1.000000      1.000000     1.000000            3.0       11.0   \n",
       "\n",
       "          response  \n",
       "count  2240.000000  \n",
       "mean      0.149107  \n",
       "std       0.356274  \n",
       "min       0.000000  \n",
       "25%       0.000000  \n",
       "50%       0.000000  \n",
       "75%       0.000000  \n",
       "max       1.000000  "
      ]
     },
     "execution_count": 5,
     "metadata": {},
     "output_type": "execute_result"
    }
   ],
   "source": [
    "df.describe()"
   ]
  },
  {
   "cell_type": "code",
   "execution_count": 6,
   "metadata": {},
   "outputs": [
    {
     "name": "stdout",
     "output_type": "stream",
     "text": [
      "<class 'pandas.core.frame.DataFrame'>\n",
      "RangeIndex: 2240 entries, 0 to 2239\n",
      "Data columns (total 29 columns):\n",
      " #   Column               Non-Null Count  Dtype  \n",
      "---  ------               --------------  -----  \n",
      " 0   id                   2240 non-null   int64  \n",
      " 1   year_birth           2240 non-null   int64  \n",
      " 2   education            2240 non-null   object \n",
      " 3   marital_status       2240 non-null   object \n",
      " 4   income               2216 non-null   float64\n",
      " 5   kidhome              2240 non-null   int64  \n",
      " 6   teenhome             2240 non-null   int64  \n",
      " 7   dt_customer          2240 non-null   object \n",
      " 8   recency              2240 non-null   int64  \n",
      " 9   mntwines             2240 non-null   int64  \n",
      " 10  mntfruits            2240 non-null   int64  \n",
      " 11  mntmeatproducts      2240 non-null   int64  \n",
      " 12  mntfishproducts      2240 non-null   int64  \n",
      " 13  mntsweetproducts     2240 non-null   int64  \n",
      " 14  mntgoldprods         2240 non-null   int64  \n",
      " 15  numdealspurchases    2240 non-null   int64  \n",
      " 16  numwebpurchases      2240 non-null   int64  \n",
      " 17  numcatalogpurchases  2240 non-null   int64  \n",
      " 18  numstorepurchases    2240 non-null   int64  \n",
      " 19  numwebvisitsmonth    2240 non-null   int64  \n",
      " 20  acceptedcmp3         2240 non-null   int64  \n",
      " 21  acceptedcmp4         2240 non-null   int64  \n",
      " 22  acceptedcmp5         2240 non-null   int64  \n",
      " 23  acceptedcmp1         2240 non-null   int64  \n",
      " 24  acceptedcmp2         2240 non-null   int64  \n",
      " 25  complain             2240 non-null   int64  \n",
      " 26  z_costcontact        2240 non-null   int64  \n",
      " 27  z_revenue            2240 non-null   int64  \n",
      " 28  response             2240 non-null   int64  \n",
      "dtypes: float64(1), int64(25), object(3)\n",
      "memory usage: 507.6+ KB\n"
     ]
    }
   ],
   "source": [
    "df.info()"
   ]
  },
  {
   "cell_type": "markdown",
   "metadata": {},
   "source": [
    "## Finding null values"
   ]
  },
  {
   "cell_type": "code",
   "execution_count": 7,
   "metadata": {},
   "outputs": [
    {
     "data": {
      "text/plain": [
       "id                      0\n",
       "year_birth              0\n",
       "education               0\n",
       "marital_status          0\n",
       "income                 24\n",
       "kidhome                 0\n",
       "teenhome                0\n",
       "dt_customer             0\n",
       "recency                 0\n",
       "mntwines                0\n",
       "mntfruits               0\n",
       "mntmeatproducts         0\n",
       "mntfishproducts         0\n",
       "mntsweetproducts        0\n",
       "mntgoldprods            0\n",
       "numdealspurchases       0\n",
       "numwebpurchases         0\n",
       "numcatalogpurchases     0\n",
       "numstorepurchases       0\n",
       "numwebvisitsmonth       0\n",
       "acceptedcmp3            0\n",
       "acceptedcmp4            0\n",
       "acceptedcmp5            0\n",
       "acceptedcmp1            0\n",
       "acceptedcmp2            0\n",
       "complain                0\n",
       "z_costcontact           0\n",
       "z_revenue               0\n",
       "response                0\n",
       "dtype: int64"
      ]
     },
     "execution_count": 7,
     "metadata": {},
     "output_type": "execute_result"
    }
   ],
   "source": [
    "df.isna().sum()"
   ]
  },
  {
   "cell_type": "code",
   "execution_count": 8,
   "metadata": {},
   "outputs": [
    {
     "name": "stdout",
     "output_type": "stream",
     "text": [
      "income mean:  52247.25135379061\n",
      "income median:  51381.5\n"
     ]
    }
   ],
   "source": [
    "print(\"income mean: \", df.income.mean())\n",
    "print(\"income median: \", df.income.median())"
   ]
  },
  {
   "cell_type": "code",
   "execution_count": 9,
   "metadata": {},
   "outputs": [],
   "source": [
    "# Replacing the income median with missing values\n",
    "df = df.fillna(df.income.mean())"
   ]
  },
  {
   "cell_type": "markdown",
   "metadata": {},
   "source": [
    "## what data types do we have in this dataset"
   ]
  },
  {
   "cell_type": "code",
   "execution_count": 10,
   "metadata": {},
   "outputs": [
    {
     "data": {
      "text/plain": [
       "id                       int64\n",
       "year_birth               int64\n",
       "education               object\n",
       "marital_status          object\n",
       "income                 float64\n",
       "kidhome                  int64\n",
       "teenhome                 int64\n",
       "dt_customer             object\n",
       "recency                  int64\n",
       "mntwines                 int64\n",
       "mntfruits                int64\n",
       "mntmeatproducts          int64\n",
       "mntfishproducts          int64\n",
       "mntsweetproducts         int64\n",
       "mntgoldprods             int64\n",
       "numdealspurchases        int64\n",
       "numwebpurchases          int64\n",
       "numcatalogpurchases      int64\n",
       "numstorepurchases        int64\n",
       "numwebvisitsmonth        int64\n",
       "acceptedcmp3             int64\n",
       "acceptedcmp4             int64\n",
       "acceptedcmp5             int64\n",
       "acceptedcmp1             int64\n",
       "acceptedcmp2             int64\n",
       "complain                 int64\n",
       "z_costcontact            int64\n",
       "z_revenue                int64\n",
       "response                 int64\n",
       "dtype: object"
      ]
     },
     "execution_count": 10,
     "metadata": {},
     "output_type": "execute_result"
    }
   ],
   "source": [
    "df.dtypes"
   ]
  },
  {
   "cell_type": "code",
   "execution_count": 11,
   "metadata": {},
   "outputs": [
    {
     "data": {
      "text/plain": [
       "['education', 'marital_status', 'dt_customer']"
      ]
     },
     "execution_count": 11,
     "metadata": {},
     "output_type": "execute_result"
    }
   ],
   "source": [
    "# categorical columns\n",
    "categorical =  df.select_dtypes(include=['object']).columns\n",
    "categorical = list(categorical)\n",
    "categorical"
   ]
  },
  {
   "cell_type": "code",
   "execution_count": 12,
   "metadata": {},
   "outputs": [
    {
     "data": {
      "text/plain": [
       "['id',\n",
       " 'year_birth',\n",
       " 'income',\n",
       " 'kidhome',\n",
       " 'teenhome',\n",
       " 'recency',\n",
       " 'mntwines',\n",
       " 'mntfruits',\n",
       " 'mntmeatproducts',\n",
       " 'mntfishproducts',\n",
       " 'mntsweetproducts',\n",
       " 'mntgoldprods',\n",
       " 'numdealspurchases',\n",
       " 'numwebpurchases',\n",
       " 'numcatalogpurchases',\n",
       " 'numstorepurchases',\n",
       " 'numwebvisitsmonth',\n",
       " 'acceptedcmp3',\n",
       " 'acceptedcmp4',\n",
       " 'acceptedcmp5',\n",
       " 'acceptedcmp1',\n",
       " 'acceptedcmp2',\n",
       " 'complain',\n",
       " 'z_costcontact',\n",
       " 'z_revenue',\n",
       " 'response']"
      ]
     },
     "execution_count": 12,
     "metadata": {},
     "output_type": "execute_result"
    }
   ],
   "source": [
    "# Numerical columns\n",
    "numerical =  df.select_dtypes(exclude=['object']).columns\n",
    "numerical = list(numerical)\n",
    "numerical"
   ]
  },
  {
   "cell_type": "code",
   "execution_count": 13,
   "metadata": {},
   "outputs": [
    {
     "name": "stdout",
     "output_type": "stream",
     "text": [
      "education 5\n",
      "marital_status 8\n",
      "dt_customer 663\n"
     ]
    }
   ],
   "source": [
    "# Unique categorical values\n",
    "for i in df[categorical]:\n",
    "    print(i , df[categorical][i].nunique())"
   ]
  },
  {
   "cell_type": "code",
   "execution_count": 14,
   "metadata": {},
   "outputs": [
    {
     "data": {
      "text/plain": [
       "Graduation    1127\n",
       "PhD            486\n",
       "Master         370\n",
       "2n Cycle       203\n",
       "Basic           54\n",
       "Name: education, dtype: int64"
      ]
     },
     "execution_count": 14,
     "metadata": {},
     "output_type": "execute_result"
    }
   ],
   "source": [
    "# Counting the number of different educational level\n",
    "df.education.value_counts()"
   ]
  },
  {
   "cell_type": "markdown",
   "metadata": {},
   "source": [
    "### I think we can regroup PHD, Master and Graduation in one group and 2n cycle and basic in another group!"
   ]
  },
  {
   "cell_type": "code",
   "execution_count": 15,
   "metadata": {},
   "outputs": [],
   "source": [
    "df.education = df.education.replace(['PhD','Graduation', 'Master'], 'fully_Graduated')\n",
    "\n",
    "df.education = df.education.replace(['Basic', '2n Cycle'], 'under_Graduated')"
   ]
  },
  {
   "cell_type": "code",
   "execution_count": 16,
   "metadata": {},
   "outputs": [
    {
     "data": {
      "text/plain": [
       "fully_Graduated    1983\n",
       "under_Graduated     257\n",
       "Name: education, dtype: int64"
      ]
     },
     "execution_count": 16,
     "metadata": {},
     "output_type": "execute_result"
    }
   ],
   "source": [
    "education = df.education.value_counts()\n",
    "education"
   ]
  },
  {
   "cell_type": "code",
   "execution_count": 17,
   "metadata": {},
   "outputs": [
    {
     "data": {
      "image/png": "[encoded data removed]",
      "text/plain": [
       "<Figure size 576x396 with 1 Axes>"
      ]
     },
     "metadata": {},
     "output_type": "display_data"
    }
   ],
   "source": [
    "# Plotting the educaiton levels\n",
    "fig , ax = plt.subplots()\n",
    "ax.barh(education.keys(), education.values)\n",
    "ax.invert_yaxis()\n",
    "plt.show()\n"
   ]
  },
  {
   "cell_type": "code",
   "execution_count": 18,
   "metadata": {},
   "outputs": [
    {
     "data": {
      "text/plain": [
       "Married     864\n",
       "Together    580\n",
       "Single      480\n",
       "Divorced    232\n",
       "Widow        77\n",
       "Alone         3\n",
       "Absurd        2\n",
       "YOLO          2\n",
       "Name: marital_status, dtype: int64"
      ]
     },
     "execution_count": 18,
     "metadata": {},
     "output_type": "execute_result"
    }
   ],
   "source": [
    "# Counting the number of different marital status\n",
    "df.marital_status.value_counts()"
   ]
  },
  {
   "cell_type": "markdown",
   "metadata": {},
   "source": [
    "### Here I want to regroup married and together in one group and the rest in another group"
   ]
  },
  {
   "cell_type": "code",
   "execution_count": 19,
   "metadata": {},
   "outputs": [],
   "source": [
    "df.marital_status = df.marital_status.replace(['Married','Together'], 'Partner')\n",
    "\n",
    "df.marital_status = df.marital_status.replace(['Single','Divorced', 'Widow', 'Alone','Absurd', 'YOLO'], 'Single')"
   ]
  },
  {
   "cell_type": "code",
   "execution_count": 20,
   "metadata": {},
   "outputs": [
    {
     "data": {
      "text/plain": [
       "Partner    1444\n",
       "Single      796\n",
       "Name: marital_status, dtype: int64"
      ]
     },
     "execution_count": 20,
     "metadata": {},
     "output_type": "execute_result"
    }
   ],
   "source": [
    "m_status = df.marital_status.value_counts()\n",
    "m_status"
   ]
  },
  {
   "cell_type": "code",
   "execution_count": 21,
   "metadata": {},
   "outputs": [
    {
     "data": {
      "image/png": "[encoded data removed]",
      "text/plain": [
       "<Figure size 576x396 with 1 Axes>"
      ]
     },
     "metadata": {},
     "output_type": "display_data"
    }
   ],
   "source": [
    "# Plotting the educaiton levels\n",
    "fig , ax = plt.subplots()\n",
    "ax.barh(m_status.keys(), m_status.values)\n",
    "ax.invert_yaxis()\n",
    "plt.show()\n"
   ]
  },
  {
   "cell_type": "markdown",
   "metadata": {},
   "source": [
    "## Getting some information from the dataset"
   ]
  },
  {
   "cell_type": "code",
   "execution_count": 22,
   "metadata": {},
   "outputs": [],
   "source": [
    "# age of the customer\n",
    "df['age'] = (pd.Timestamp('now').year) - df['year_birth'] \n",
    "\n",
    "# drop year_birth after getting the age\n",
    "df = df.drop('year_birth', axis=1)"
   ]
  },
  {
   "cell_type": "code",
   "execution_count": 23,
   "metadata": {},
   "outputs": [
    {
     "data": {
      "text/plain": [
       "Index(['id', 'education', 'marital_status', 'income', 'kidhome', 'teenhome',\n",
       "       'dt_customer', 'recency', 'mntwines', 'mntfruits', 'mntmeatproducts',\n",
       "       'mntfishproducts', 'mntsweetproducts', 'mntgoldprods',\n",
       "       'numdealspurchases', 'numwebpurchases', 'numcatalogpurchases',\n",
       "       'numstorepurchases', 'numwebvisitsmonth', 'acceptedcmp3',\n",
       "       'acceptedcmp4', 'acceptedcmp5', 'acceptedcmp1', 'acceptedcmp2',\n",
       "       'complain', 'z_costcontact', 'z_revenue', 'response', 'age'],\n",
       "      dtype='object')"
      ]
     },
     "execution_count": 23,
     "metadata": {},
     "output_type": "execute_result"
    }
   ],
   "source": [
    "df.columns"
   ]
  },
  {
   "cell_type": "code",
   "execution_count": 24,
   "metadata": {},
   "outputs": [],
   "source": [
    "# for how long a customer has been enrolled using \n",
    "# : Dt_Customer: Date of customer's enrollment with the company \n",
    "\n",
    "def enrolment_period(dts):\n",
    "    today = datetime.date.today()\n",
    "    en_date = pd.to_datetime(dts).date() \n",
    "    days = today - en_date\n",
    "    days = re.sub(\" days, 0:00:00\", \"\", str(days))\n",
    "    days = int(days)\n",
    "    return days\n",
    "\n",
    "\n",
    "df['enrolment_days'] = df.dt_customer.apply(enrolment_period)"
   ]
  },
  {
   "cell_type": "code",
   "execution_count": 25,
   "metadata": {},
   "outputs": [
    {
     "data": {
      "image/png": "[encoded data removed]",
      "text/plain": [
       "<Figure size 360x360 with 1 Axes>"
      ]
     },
     "metadata": {},
     "output_type": "display_data"
    }
   ],
   "source": [
    "# Plotting the enrollment day of the customers\n",
    "sns.displot(df[\"enrolment_days\"])\n",
    "plt.show()"
   ]
  },
  {
   "cell_type": "markdown",
   "metadata": {},
   "source": [
    "### Lets check the income's distribution"
   ]
  },
  {
   "cell_type": "code",
   "execution_count": 26,
   "metadata": {},
   "outputs": [
    {
     "data": {
      "image/png": "[encoded data removed]",
      "text/plain": [
       "<Figure size 360x360 with 1 Axes>"
      ]
     },
     "metadata": {},
     "output_type": "display_data"
    }
   ],
   "source": [
    "sns.displot(df[\"income\"], bins = 15 )\n",
    "plt.show()"
   ]
  },
  {
   "cell_type": "code",
   "execution_count": 27,
   "metadata": {},
   "outputs": [
    {
     "data": {
      "text/plain": [
       "(2239, 30)"
      ]
     },
     "execution_count": 27,
     "metadata": {},
     "output_type": "execute_result"
    }
   ],
   "source": [
    "df = df[df['income']< 200000]\n",
    "df.shape"
   ]
  },
  {
   "cell_type": "markdown",
   "metadata": {},
   "source": [
    "## Products: regrouping the products in 3 categories :\n",
    "## category_1: meats = meat & fish\n",
    "## category_2: other_products: wine & sweets & fruits\n",
    "## and I left gold alone"
   ]
  },
  {
   "cell_type": "code",
   "execution_count": 28,
   "metadata": {},
   "outputs": [],
   "source": [
    "df['meats'] = df['mntmeatproducts'] + df['mntfishproducts']\n",
    "\n",
    "df['other_products'] = df['mntsweetproducts'] + df['mntwines']+  df['mntfruits']\n",
    "\n",
    "df.rename(columns = ({'mntgoldprods':'gold'}), inplace = True)"
   ]
  },
  {
   "cell_type": "code",
   "execution_count": 29,
   "metadata": {},
   "outputs": [
    {
     "data": {
      "text/plain": [
       "Index(['id', 'education', 'marital_status', 'income', 'kidhome', 'teenhome',\n",
       "       'dt_customer', 'recency', 'mntwines', 'mntfruits', 'mntmeatproducts',\n",
       "       'mntfishproducts', 'mntsweetproducts', 'gold', 'numdealspurchases',\n",
       "       'numwebpurchases', 'numcatalogpurchases', 'numstorepurchases',\n",
       "       'numwebvisitsmonth', 'acceptedcmp3', 'acceptedcmp4', 'acceptedcmp5',\n",
       "       'acceptedcmp1', 'acceptedcmp2', 'complain', 'z_costcontact',\n",
       "       'z_revenue', 'response', 'age', 'enrolment_days', 'meats',\n",
       "       'other_products'],\n",
       "      dtype='object')"
      ]
     },
     "execution_count": 29,
     "metadata": {},
     "output_type": "execute_result"
    }
   ],
   "source": [
    "df.columns"
   ]
  },
  {
   "cell_type": "markdown",
   "metadata": {},
   "source": [
    "## Reducing dimentions"
   ]
  },
  {
   "cell_type": "code",
   "execution_count": 30,
   "metadata": {},
   "outputs": [],
   "source": [
    "drop_list = ['id', 'dt_customer', 'mntwines', 'mntfruits',\n",
    "       'mntmeatproducts', 'mntfishproducts', 'mntsweetproducts']"
   ]
  },
  {
   "cell_type": "code",
   "execution_count": 31,
   "metadata": {},
   "outputs": [],
   "source": [
    "df.drop(drop_list, axis = 1,inplace = True)"
   ]
  },
  {
   "cell_type": "markdown",
   "metadata": {},
   "source": [
    "### Responses to the campaines in a column: "
   ]
  },
  {
   "cell_type": "code",
   "execution_count": 32,
   "metadata": {},
   "outputs": [],
   "source": [
    "responces = ['acceptedcmp3', 'acceptedcmp4', 'acceptedcmp5', 'acceptedcmp1',\n",
    "             'acceptedcmp2', 'response']\n",
    "\n",
    "\n",
    "df['responces'] = df[responces].sum(axis = 1)\n",
    "\n",
    "# if there is any responses it would be 1 otherwise it would be 0\n",
    "def mapp(num):\n",
    "    if num >=1:\n",
    "        result = 1\n",
    "    else:\n",
    "        result = 0\n",
    "    return result\n",
    "\n",
    "\n",
    "df['responces'] = df['responces'].apply(mapp)"
   ]
  },
  {
   "cell_type": "code",
   "execution_count": 33,
   "metadata": {},
   "outputs": [
    {
     "data": {
      "text/plain": [
       "array([1, 0], dtype=int64)"
      ]
     },
     "execution_count": 33,
     "metadata": {},
     "output_type": "execute_result"
    }
   ],
   "source": [
    "# check if it works!\n",
    "df['responces'].unique()"
   ]
  },
  {
   "cell_type": "code",
   "execution_count": 34,
   "metadata": {},
   "outputs": [],
   "source": [
    "# Dropping all those columns (dimensionality reduction)\n",
    "df.drop(responces, axis = 1,inplace = True)"
   ]
  },
  {
   "cell_type": "markdown",
   "metadata": {},
   "source": [
    "### Regroup puraches"
   ]
  },
  {
   "cell_type": "code",
   "execution_count": 35,
   "metadata": {},
   "outputs": [],
   "source": [
    "purchases = ['numdealspurchases', 'numwebpurchases',\n",
    "       'numcatalogpurchases', 'numstorepurchases']\n",
    "\n",
    "# Adding all the purchases in one column\n",
    "df['purchases'] = df[purchases].sum(axis = 1) \n",
    "# Removing the other columns\n",
    "df.drop(purchases, axis = 1,inplace = True)"
   ]
  },
  {
   "cell_type": "markdown",
   "metadata": {},
   "source": [
    "### Regroup teen and kids"
   ]
  },
  {
   "cell_type": "code",
   "execution_count": 36,
   "metadata": {},
   "outputs": [],
   "source": [
    "# Combining the two columns kidhome and teenhome in one column\n",
    "teen_kids = ['kidhome', 'teenhome']\n",
    "# The number of children in teen_kids\n",
    "df['teen_kids'] = df[teen_kids].sum(axis = 1)\n",
    "# Dropping those columns \n",
    "df.drop(teen_kids, axis = 1,inplace = True)\n"
   ]
  },
  {
   "cell_type": "code",
   "execution_count": 37,
   "metadata": {},
   "outputs": [
    {
     "data": {
      "text/plain": [
       "['income',\n",
       " 'recency',\n",
       " 'gold',\n",
       " 'numwebvisitsmonth',\n",
       " 'complain',\n",
       " 'z_costcontact',\n",
       " 'z_revenue',\n",
       " 'age',\n",
       " 'enrolment_days',\n",
       " 'meats',\n",
       " 'other_products',\n",
       " 'responces',\n",
       " 'purchases',\n",
       " 'teen_kids']"
      ]
     },
     "execution_count": 37,
     "metadata": {},
     "output_type": "execute_result"
    }
   ],
   "source": [
    "# new numerical values after dimensionality reduction\n",
    "numerical_n =  df.select_dtypes(exclude=['object']).columns\n",
    "numerical_n = list(numerical_n)\n",
    "numerical_n"
   ]
  },
  {
   "cell_type": "code",
   "execution_count": 38,
   "metadata": {},
   "outputs": [
    {
     "data": {
      "text/plain": [
       "income               1974\n",
       "recency               100\n",
       "gold                  213\n",
       "numwebvisitsmonth      16\n",
       "complain                2\n",
       "z_costcontact           1\n",
       "z_revenue               1\n",
       "age                    59\n",
       "enrolment_days        663\n",
       "meats                 606\n",
       "other_products        857\n",
       "responces               2\n",
       "purchases              39\n",
       "teen_kids               4\n",
       "dtype: int64"
      ]
     },
     "execution_count": 38,
     "metadata": {},
     "output_type": "execute_result"
    }
   ],
   "source": [
    "# Control the number of unique vaues in numericals\n",
    "df[numerical_n].nunique()"
   ]
  },
  {
   "cell_type": "code",
   "execution_count": 39,
   "metadata": {},
   "outputs": [
    {
     "name": "stdout",
     "output_type": "stream",
     "text": [
      "[3]\n",
      "[11]\n"
     ]
    }
   ],
   "source": [
    "#z_costcontact and z_revenue only have one value lets inspect them\n",
    "print(df['z_costcontact'].unique())\n",
    "print(df['z_revenue'].unique())"
   ]
  },
  {
   "cell_type": "code",
   "execution_count": 40,
   "metadata": {},
   "outputs": [
    {
     "data": {
      "text/plain": [
       "(2239, 14)"
      ]
     },
     "execution_count": 40,
     "metadata": {},
     "output_type": "execute_result"
    }
   ],
   "source": [
    "# as these unique values can not affect our model we can drop these columns\n",
    "df = df.drop(columns = ['z_costcontact','z_revenue' ], axis = 1)\n",
    "df.shape"
   ]
  },
  {
   "cell_type": "code",
   "execution_count": 41,
   "metadata": {},
   "outputs": [
    {
     "data": {
      "text/plain": [
       "array([ 64,  67,  56,  37,  40,  54,  50,  36,  47,  71,  38,  45,  62,\n",
       "        69,  34,  75,  41,  72,  39,  42,  70,  52,  35,  32,  58,  51,\n",
       "        48,  78,  46,  25,  53,  57,  44,  43,  66,  55,  33,  73,  63,\n",
       "        49,  61,  76,  30,  59,  68,  60,  65,  29, 121, 128,  31,  74,\n",
       "       122,  28,  27,  80,  77,  26,  81], dtype=int64)"
      ]
     },
     "execution_count": 41,
     "metadata": {},
     "output_type": "execute_result"
    }
   ],
   "source": [
    "# Looking into the age coulmn\n",
    "df.age.unique()"
   ]
  },
  {
   "cell_type": "code",
   "execution_count": 42,
   "metadata": {},
   "outputs": [
    {
     "data": {
      "text/plain": [
       "array([3, 4, 1, 2, 0, 5], dtype=int64)"
      ]
     },
     "execution_count": 42,
     "metadata": {},
     "output_type": "execute_result"
    }
   ],
   "source": [
    "# Replacing the age with the age groups\n",
    "\n",
    "def age_category(age):\n",
    "    if  25<=age <= 35:\n",
    "        age = 0\n",
    "    elif 35 < age <= 45:\n",
    "        age = 1\n",
    "    elif 45 < age <= 55:\n",
    "        age = 2\n",
    "    elif 55 < age <= 65:\n",
    "        age = 3\n",
    "    elif 65 < age <= 75:\n",
    "        age = 4\n",
    "    elif age > 75:  \n",
    "        age = 5\n",
    "    return age  \n",
    "\n",
    "df.age = df.age.apply(age_category)\n",
    "df.age.unique()"
   ]
  },
  {
   "cell_type": "code",
   "execution_count": 43,
   "metadata": {},
   "outputs": [
    {
     "data": {
      "text/plain": [
       "2    685\n",
       "1    505\n",
       "3    492\n",
       "4    341\n",
       "0    189\n",
       "5     27\n",
       "Name: age, dtype: int64"
      ]
     },
     "execution_count": 43,
     "metadata": {},
     "output_type": "execute_result"
    }
   ],
   "source": [
    "age_groups = df.age.value_counts()\n",
    "age_groups"
   ]
  },
  {
   "cell_type": "code",
   "execution_count": 44,
   "metadata": {},
   "outputs": [
    {
     "data": {
      "image/png": "[encoded data removed]",
      "text/plain": [
       "<Figure size 576x396 with 1 Axes>"
      ]
     },
     "metadata": {},
     "output_type": "display_data"
    }
   ],
   "source": [
    "# Plotting the educaiton levels\n",
    "fig , ax = plt.subplots()\n",
    "ax.barh(age_groups.keys(), age_groups.values)\n",
    "ax.invert_yaxis()\n",
    "plt.xlabel('Number of customers')\n",
    "plt.ylabel('Age groups')\n",
    "plt.show()\n"
   ]
  },
  {
   "cell_type": "code",
   "execution_count": 45,
   "metadata": {},
   "outputs": [
    {
     "data": {
      "text/html": [
       "<div>\n",
       "<style scoped>\n",
       "    .dataframe tbody tr th:only-of-type {\n",
       "        vertical-align: middle;\n",
       "    }\n",
       "\n",
       "    .dataframe tbody tr th {\n",
       "        vertical-align: top;\n",
       "    }\n",
       "\n",
       "    .dataframe thead th {\n",
       "        text-align: right;\n",
       "    }\n",
       "</style>\n",
       "<table border=\"1\" class=\"dataframe\">\n",
       "  <thead>\n",
       "    <tr style=\"text-align: right;\">\n",
       "      <th></th>\n",
       "      <th>education</th>\n",
       "      <th>marital_status</th>\n",
       "      <th>income</th>\n",
       "      <th>recency</th>\n",
       "      <th>gold</th>\n",
       "      <th>numwebvisitsmonth</th>\n",
       "      <th>complain</th>\n",
       "      <th>age</th>\n",
       "      <th>enrolment_days</th>\n",
       "      <th>meats</th>\n",
       "      <th>other_products</th>\n",
       "      <th>responces</th>\n",
       "      <th>purchases</th>\n",
       "      <th>teen_kids</th>\n",
       "    </tr>\n",
       "  </thead>\n",
       "  <tbody>\n",
       "    <tr>\n",
       "      <th>0</th>\n",
       "      <td>fully_Graduated</td>\n",
       "      <td>Single</td>\n",
       "      <td>58138.0</td>\n",
       "      <td>58</td>\n",
       "      <td>88</td>\n",
       "      <td>7</td>\n",
       "      <td>0</td>\n",
       "      <td>3</td>\n",
       "      <td>3492</td>\n",
       "      <td>718</td>\n",
       "      <td>811</td>\n",
       "      <td>1</td>\n",
       "      <td>25</td>\n",
       "      <td>0</td>\n",
       "    </tr>\n",
       "    <tr>\n",
       "      <th>1</th>\n",
       "      <td>fully_Graduated</td>\n",
       "      <td>Single</td>\n",
       "      <td>46344.0</td>\n",
       "      <td>38</td>\n",
       "      <td>6</td>\n",
       "      <td>5</td>\n",
       "      <td>0</td>\n",
       "      <td>4</td>\n",
       "      <td>2646</td>\n",
       "      <td>8</td>\n",
       "      <td>13</td>\n",
       "      <td>0</td>\n",
       "      <td>6</td>\n",
       "      <td>2</td>\n",
       "    </tr>\n",
       "    <tr>\n",
       "      <th>2</th>\n",
       "      <td>fully_Graduated</td>\n",
       "      <td>Partner</td>\n",
       "      <td>71613.0</td>\n",
       "      <td>26</td>\n",
       "      <td>42</td>\n",
       "      <td>4</td>\n",
       "      <td>0</td>\n",
       "      <td>3</td>\n",
       "      <td>2993</td>\n",
       "      <td>238</td>\n",
       "      <td>496</td>\n",
       "      <td>0</td>\n",
       "      <td>21</td>\n",
       "      <td>0</td>\n",
       "    </tr>\n",
       "    <tr>\n",
       "      <th>3</th>\n",
       "      <td>fully_Graduated</td>\n",
       "      <td>Partner</td>\n",
       "      <td>26646.0</td>\n",
       "      <td>26</td>\n",
       "      <td>5</td>\n",
       "      <td>6</td>\n",
       "      <td>0</td>\n",
       "      <td>1</td>\n",
       "      <td>2586</td>\n",
       "      <td>30</td>\n",
       "      <td>18</td>\n",
       "      <td>0</td>\n",
       "      <td>8</td>\n",
       "      <td>1</td>\n",
       "    </tr>\n",
       "    <tr>\n",
       "      <th>4</th>\n",
       "      <td>fully_Graduated</td>\n",
       "      <td>Partner</td>\n",
       "      <td>58293.0</td>\n",
       "      <td>94</td>\n",
       "      <td>15</td>\n",
       "      <td>5</td>\n",
       "      <td>0</td>\n",
       "      <td>1</td>\n",
       "      <td>2842</td>\n",
       "      <td>164</td>\n",
       "      <td>243</td>\n",
       "      <td>0</td>\n",
       "      <td>19</td>\n",
       "      <td>1</td>\n",
       "    </tr>\n",
       "  </tbody>\n",
       "</table>\n",
       "</div>"
      ],
      "text/plain": [
       "         education marital_status   income  recency  gold  numwebvisitsmonth  \\\n",
       "0  fully_Graduated         Single  58138.0       58    88                  7   \n",
       "1  fully_Graduated         Single  46344.0       38     6                  5   \n",
       "2  fully_Graduated        Partner  71613.0       26    42                  4   \n",
       "3  fully_Graduated        Partner  26646.0       26     5                  6   \n",
       "4  fully_Graduated        Partner  58293.0       94    15                  5   \n",
       "\n",
       "   complain  age  enrolment_days  meats  other_products  responces  purchases  \\\n",
       "0         0    3            3492    718             811          1         25   \n",
       "1         0    4            2646      8              13          0          6   \n",
       "2         0    3            2993    238             496          0         21   \n",
       "3         0    1            2586     30              18          0          8   \n",
       "4         0    1            2842    164             243          0         19   \n",
       "\n",
       "   teen_kids  \n",
       "0          0  \n",
       "1          2  \n",
       "2          0  \n",
       "3          1  \n",
       "4          1  "
      ]
     },
     "execution_count": 45,
     "metadata": {},
     "output_type": "execute_result"
    }
   ],
   "source": [
    "# the latest version of the dataset\n",
    "df.head()"
   ]
  },
  {
   "cell_type": "code",
   "execution_count": 46,
   "metadata": {},
   "outputs": [
    {
     "data": {
      "text/plain": [
       "<AxesSubplot:>"
      ]
     },
     "execution_count": 46,
     "metadata": {},
     "output_type": "execute_result"
    },
    {
     "data": {
      "image/png": "[encoded data removed]",
      "text/plain": [
       "<Figure size 720x576 with 2 Axes>"
      ]
     },
     "metadata": {},
     "output_type": "display_data"
    }
   ],
   "source": [
    "# Plotting the heat map to investigate relationship of the columns within the dataframe\n",
    "plt.figure(figsize=(10,8))\n",
    "sns.heatmap(df.corr(), annot=True,cmap = 'YlGnBu',linewidths=1)"
   ]
  },
  {
   "cell_type": "markdown",
   "metadata": {},
   "source": [
    "## Looking into the heat map it is clear that Columns with the nature of cost, such as gold, meat, purchases and other products have a higher correlation with the income"
   ]
  },
  {
   "cell_type": "code",
   "execution_count": 47,
   "metadata": {},
   "outputs": [
    {
     "data": {
      "text/plain": [
       "['income',\n",
       " 'recency',\n",
       " 'gold',\n",
       " 'numwebvisitsmonth',\n",
       " 'complain',\n",
       " 'age',\n",
       " 'enrolment_days',\n",
       " 'meats',\n",
       " 'other_products',\n",
       " 'responces',\n",
       " 'purchases',\n",
       " 'teen_kids']"
      ]
     },
     "execution_count": 47,
     "metadata": {},
     "output_type": "execute_result"
    }
   ],
   "source": [
    "# the laterst numerical values after dimensionality reduction\n",
    "final_numerical =   df.select_dtypes(exclude=['object']).columns\n",
    "final_numerical =  list(final_numerical )\n",
    "final_numerical "
   ]
  },
  {
   "cell_type": "code",
   "execution_count": 48,
   "metadata": {},
   "outputs": [
    {
     "data": {
      "text/plain": [
       "['education', 'marital_status']"
      ]
     },
     "execution_count": 48,
     "metadata": {},
     "output_type": "execute_result"
    }
   ],
   "source": [
    "# the laterst categorical values after dimensionality reduction\n",
    "final_categorical =   df.select_dtypes(include=['object']).columns\n",
    "final_categorical =  list(final_categorical )\n",
    "final_categorical "
   ]
  },
  {
   "cell_type": "markdown",
   "metadata": {},
   "source": [
    "## One-Hot encoding"
   ]
  },
  {
   "cell_type": "code",
   "execution_count": 49,
   "metadata": {},
   "outputs": [],
   "source": [
    "def encode_and_bind(original_dataframe, feature_to_encode):\n",
    "    dummies = pd.get_dummies(original_dataframe[feature_to_encode])\n",
    "    res = pd.concat([original_dataframe, dummies], axis=1)\n",
    "    res = res.drop(feature_to_encode, axis=1)\n",
    "    return(res)\n",
    "\n",
    "\n",
    "df_encoded = encode_and_bind(df,final_categorical)"
   ]
  },
  {
   "cell_type": "code",
   "execution_count": 50,
   "metadata": {},
   "outputs": [
    {
     "data": {
      "text/html": [
       "<div>\n",
       "<style scoped>\n",
       "    .dataframe tbody tr th:only-of-type {\n",
       "        vertical-align: middle;\n",
       "    }\n",
       "\n",
       "    .dataframe tbody tr th {\n",
       "        vertical-align: top;\n",
       "    }\n",
       "\n",
       "    .dataframe thead th {\n",
       "        text-align: right;\n",
       "    }\n",
       "</style>\n",
       "<table border=\"1\" class=\"dataframe\">\n",
       "  <thead>\n",
       "    <tr style=\"text-align: right;\">\n",
       "      <th></th>\n",
       "      <th>income</th>\n",
       "      <th>recency</th>\n",
       "      <th>gold</th>\n",
       "      <th>numwebvisitsmonth</th>\n",
       "      <th>complain</th>\n",
       "      <th>age</th>\n",
       "      <th>enrolment_days</th>\n",
       "      <th>meats</th>\n",
       "      <th>other_products</th>\n",
       "      <th>responces</th>\n",
       "      <th>purchases</th>\n",
       "      <th>teen_kids</th>\n",
       "      <th>education_fully_Graduated</th>\n",
       "      <th>education_under_Graduated</th>\n",
       "      <th>marital_status_Partner</th>\n",
       "      <th>marital_status_Single</th>\n",
       "    </tr>\n",
       "  </thead>\n",
       "  <tbody>\n",
       "    <tr>\n",
       "      <th>0</th>\n",
       "      <td>58138.0</td>\n",
       "      <td>58</td>\n",
       "      <td>88</td>\n",
       "      <td>7</td>\n",
       "      <td>0</td>\n",
       "      <td>3</td>\n",
       "      <td>3492</td>\n",
       "      <td>718</td>\n",
       "      <td>811</td>\n",
       "      <td>1</td>\n",
       "      <td>25</td>\n",
       "      <td>0</td>\n",
       "      <td>1</td>\n",
       "      <td>0</td>\n",
       "      <td>0</td>\n",
       "      <td>1</td>\n",
       "    </tr>\n",
       "    <tr>\n",
       "      <th>1</th>\n",
       "      <td>46344.0</td>\n",
       "      <td>38</td>\n",
       "      <td>6</td>\n",
       "      <td>5</td>\n",
       "      <td>0</td>\n",
       "      <td>4</td>\n",
       "      <td>2646</td>\n",
       "      <td>8</td>\n",
       "      <td>13</td>\n",
       "      <td>0</td>\n",
       "      <td>6</td>\n",
       "      <td>2</td>\n",
       "      <td>1</td>\n",
       "      <td>0</td>\n",
       "      <td>0</td>\n",
       "      <td>1</td>\n",
       "    </tr>\n",
       "    <tr>\n",
       "      <th>2</th>\n",
       "      <td>71613.0</td>\n",
       "      <td>26</td>\n",
       "      <td>42</td>\n",
       "      <td>4</td>\n",
       "      <td>0</td>\n",
       "      <td>3</td>\n",
       "      <td>2993</td>\n",
       "      <td>238</td>\n",
       "      <td>496</td>\n",
       "      <td>0</td>\n",
       "      <td>21</td>\n",
       "      <td>0</td>\n",
       "      <td>1</td>\n",
       "      <td>0</td>\n",
       "      <td>1</td>\n",
       "      <td>0</td>\n",
       "    </tr>\n",
       "    <tr>\n",
       "      <th>3</th>\n",
       "      <td>26646.0</td>\n",
       "      <td>26</td>\n",
       "      <td>5</td>\n",
       "      <td>6</td>\n",
       "      <td>0</td>\n",
       "      <td>1</td>\n",
       "      <td>2586</td>\n",
       "      <td>30</td>\n",
       "      <td>18</td>\n",
       "      <td>0</td>\n",
       "      <td>8</td>\n",
       "      <td>1</td>\n",
       "      <td>1</td>\n",
       "      <td>0</td>\n",
       "      <td>1</td>\n",
       "      <td>0</td>\n",
       "    </tr>\n",
       "    <tr>\n",
       "      <th>4</th>\n",
       "      <td>58293.0</td>\n",
       "      <td>94</td>\n",
       "      <td>15</td>\n",
       "      <td>5</td>\n",
       "      <td>0</td>\n",
       "      <td>1</td>\n",
       "      <td>2842</td>\n",
       "      <td>164</td>\n",
       "      <td>243</td>\n",
       "      <td>0</td>\n",
       "      <td>19</td>\n",
       "      <td>1</td>\n",
       "      <td>1</td>\n",
       "      <td>0</td>\n",
       "      <td>1</td>\n",
       "      <td>0</td>\n",
       "    </tr>\n",
       "  </tbody>\n",
       "</table>\n",
       "</div>"
      ],
      "text/plain": [
       "    income  recency  gold  numwebvisitsmonth  complain  age  enrolment_days  \\\n",
       "0  58138.0       58    88                  7         0    3            3492   \n",
       "1  46344.0       38     6                  5         0    4            2646   \n",
       "2  71613.0       26    42                  4         0    3            2993   \n",
       "3  26646.0       26     5                  6         0    1            2586   \n",
       "4  58293.0       94    15                  5         0    1            2842   \n",
       "\n",
       "   meats  other_products  responces  purchases  teen_kids  \\\n",
       "0    718             811          1         25          0   \n",
       "1      8              13          0          6          2   \n",
       "2    238             496          0         21          0   \n",
       "3     30              18          0          8          1   \n",
       "4    164             243          0         19          1   \n",
       "\n",
       "   education_fully_Graduated  education_under_Graduated  \\\n",
       "0                          1                          0   \n",
       "1                          1                          0   \n",
       "2                          1                          0   \n",
       "3                          1                          0   \n",
       "4                          1                          0   \n",
       "\n",
       "   marital_status_Partner  marital_status_Single  \n",
       "0                       0                      1  \n",
       "1                       0                      1  \n",
       "2                       1                      0  \n",
       "3                       1                      0  \n",
       "4                       1                      0  "
      ]
     },
     "execution_count": 50,
     "metadata": {},
     "output_type": "execute_result"
    }
   ],
   "source": [
    "df_encoded.head()"
   ]
  },
  {
   "cell_type": "code",
   "execution_count": 51,
   "metadata": {},
   "outputs": [
    {
     "data": {
      "text/plain": [
       "income                       1974\n",
       "recency                       100\n",
       "gold                          213\n",
       "numwebvisitsmonth              16\n",
       "complain                        2\n",
       "age                             6\n",
       "enrolment_days                663\n",
       "meats                         606\n",
       "other_products                857\n",
       "responces                       2\n",
       "purchases                      39\n",
       "teen_kids                       4\n",
       "education_fully_Graduated       2\n",
       "education_under_Graduated       2\n",
       "marital_status_Partner          2\n",
       "marital_status_Single           2\n",
       "dtype: int64"
      ]
     },
     "execution_count": 51,
     "metadata": {},
     "output_type": "execute_result"
    }
   ],
   "source": [
    "df_encoded.nunique()"
   ]
  },
  {
   "cell_type": "code",
   "execution_count": 52,
   "metadata": {},
   "outputs": [],
   "source": [
    "df_encoded['expences'] = df_encoded[['meats','gold','other_products']].sum(axis = 1)\n",
    "\n",
    "df_encoded = df_encoded.drop(['meats','gold','other_products'],axis = 1)"
   ]
  },
  {
   "cell_type": "markdown",
   "metadata": {},
   "source": [
    "## Scaling the data"
   ]
  },
  {
   "cell_type": "code",
   "execution_count": 53,
   "metadata": {},
   "outputs": [],
   "source": [
    "from sklearn.preprocessing import StandardScaler\n",
    "to_scale = ['income', 'recency', 'numwebvisitsmonth','enrolment_days', 'expences','purchases' ]\n",
    "sc = StandardScaler()\n",
    "X_scaled = sc.fit_transform(df_encoded[to_scale])\n"
   ]
  },
  {
   "cell_type": "code",
   "execution_count": 54,
   "metadata": {},
   "outputs": [
    {
     "data": {
      "text/plain": [
       "['income',\n",
       " 'recency',\n",
       " 'gold',\n",
       " 'numwebvisitsmonth',\n",
       " 'complain',\n",
       " 'age',\n",
       " 'enrolment_days',\n",
       " 'meats',\n",
       " 'other_products',\n",
       " 'responces',\n",
       " 'purchases',\n",
       " 'teen_kids']"
      ]
     },
     "execution_count": 54,
     "metadata": {},
     "output_type": "execute_result"
    }
   ],
   "source": [
    "# the laterst numerical values after dimensionality reduction\n",
    "final_numerical =   df.select_dtypes(exclude=['object']).columns\n",
    "final_numerical =  list(final_numerical )\n",
    "final_numerical "
   ]
  },
  {
   "cell_type": "code",
   "execution_count": 55,
   "metadata": {},
   "outputs": [
    {
     "data": {
      "text/html": [
       "<div>\n",
       "<style scoped>\n",
       "    .dataframe tbody tr th:only-of-type {\n",
       "        vertical-align: middle;\n",
       "    }\n",
       "\n",
       "    .dataframe tbody tr th {\n",
       "        vertical-align: top;\n",
       "    }\n",
       "\n",
       "    .dataframe thead th {\n",
       "        text-align: right;\n",
       "    }\n",
       "</style>\n",
       "<table border=\"1\" class=\"dataframe\">\n",
       "  <thead>\n",
       "    <tr style=\"text-align: right;\">\n",
       "      <th></th>\n",
       "      <th>income</th>\n",
       "      <th>recency</th>\n",
       "      <th>numwebvisitsmonth</th>\n",
       "      <th>enrolment_days</th>\n",
       "      <th>expences</th>\n",
       "      <th>purchases</th>\n",
       "    </tr>\n",
       "  </thead>\n",
       "  <tbody>\n",
       "    <tr>\n",
       "      <th>0</th>\n",
       "      <td>0.288013</td>\n",
       "      <td>0.306624</td>\n",
       "      <td>0.693887</td>\n",
       "      <td>1.976802</td>\n",
       "      <td>1.678944</td>\n",
       "      <td>1.320381</td>\n",
       "    </tr>\n",
       "    <tr>\n",
       "      <th>1</th>\n",
       "      <td>-0.262958</td>\n",
       "      <td>-0.384051</td>\n",
       "      <td>-0.130311</td>\n",
       "      <td>-1.666507</td>\n",
       "      <td>-0.961639</td>\n",
       "      <td>-1.154628</td>\n",
       "    </tr>\n",
       "    <tr>\n",
       "      <th>2</th>\n",
       "      <td>0.917515</td>\n",
       "      <td>-0.798456</td>\n",
       "      <td>-0.542410</td>\n",
       "      <td>-0.172147</td>\n",
       "      <td>0.282258</td>\n",
       "      <td>0.799327</td>\n",
       "    </tr>\n",
       "    <tr>\n",
       "      <th>3</th>\n",
       "      <td>-1.183175</td>\n",
       "      <td>-0.798456</td>\n",
       "      <td>0.281788</td>\n",
       "      <td>-1.924897</td>\n",
       "      <td>-0.918460</td>\n",
       "      <td>-0.894101</td>\n",
       "    </tr>\n",
       "    <tr>\n",
       "      <th>4</th>\n",
       "      <td>0.295254</td>\n",
       "      <td>1.549838</td>\n",
       "      <td>-0.130311</td>\n",
       "      <td>-0.822430</td>\n",
       "      <td>-0.305645</td>\n",
       "      <td>0.538799</td>\n",
       "    </tr>\n",
       "    <tr>\n",
       "      <th>...</th>\n",
       "      <td>...</td>\n",
       "      <td>...</td>\n",
       "      <td>...</td>\n",
       "      <td>...</td>\n",
       "      <td>...</td>\n",
       "      <td>...</td>\n",
       "    </tr>\n",
       "    <tr>\n",
       "      <th>2234</th>\n",
       "      <td>0.432133</td>\n",
       "      <td>-0.107781</td>\n",
       "      <td>-0.130311</td>\n",
       "      <td>0.125002</td>\n",
       "      <td>1.220579</td>\n",
       "      <td>0.408536</td>\n",
       "    </tr>\n",
       "    <tr>\n",
       "      <th>2235</th>\n",
       "      <td>0.562518</td>\n",
       "      <td>0.237556</td>\n",
       "      <td>0.693887</td>\n",
       "      <td>-1.942123</td>\n",
       "      <td>-0.269109</td>\n",
       "      <td>0.929590</td>\n",
       "    </tr>\n",
       "    <tr>\n",
       "      <th>2236</th>\n",
       "      <td>0.233963</td>\n",
       "      <td>1.446237</td>\n",
       "      <td>0.281788</td>\n",
       "      <td>-0.848269</td>\n",
       "      <td>1.054505</td>\n",
       "      <td>0.538799</td>\n",
       "    </tr>\n",
       "    <tr>\n",
       "      <th>2237</th>\n",
       "      <td>0.806891</td>\n",
       "      <td>-1.420063</td>\n",
       "      <td>-0.954509</td>\n",
       "      <td>-0.843963</td>\n",
       "      <td>0.393528</td>\n",
       "      <td>1.059854</td>\n",
       "    </tr>\n",
       "    <tr>\n",
       "      <th>2238</th>\n",
       "      <td>0.041865</td>\n",
       "      <td>-0.314983</td>\n",
       "      <td>0.693887</td>\n",
       "      <td>1.162872</td>\n",
       "      <td>-0.720831</td>\n",
       "      <td>-0.503310</td>\n",
       "    </tr>\n",
       "  </tbody>\n",
       "</table>\n",
       "<p>2239 rows × 6 columns</p>\n",
       "</div>"
      ],
      "text/plain": [
       "        income   recency  numwebvisitsmonth  enrolment_days  expences  \\\n",
       "0     0.288013  0.306624           0.693887        1.976802  1.678944   \n",
       "1    -0.262958 -0.384051          -0.130311       -1.666507 -0.961639   \n",
       "2     0.917515 -0.798456          -0.542410       -0.172147  0.282258   \n",
       "3    -1.183175 -0.798456           0.281788       -1.924897 -0.918460   \n",
       "4     0.295254  1.549838          -0.130311       -0.822430 -0.305645   \n",
       "...        ...       ...                ...             ...       ...   \n",
       "2234  0.432133 -0.107781          -0.130311        0.125002  1.220579   \n",
       "2235  0.562518  0.237556           0.693887       -1.942123 -0.269109   \n",
       "2236  0.233963  1.446237           0.281788       -0.848269  1.054505   \n",
       "2237  0.806891 -1.420063          -0.954509       -0.843963  0.393528   \n",
       "2238  0.041865 -0.314983           0.693887        1.162872 -0.720831   \n",
       "\n",
       "      purchases  \n",
       "0      1.320381  \n",
       "1     -1.154628  \n",
       "2      0.799327  \n",
       "3     -0.894101  \n",
       "4      0.538799  \n",
       "...         ...  \n",
       "2234   0.408536  \n",
       "2235   0.929590  \n",
       "2236   0.538799  \n",
       "2237   1.059854  \n",
       "2238  -0.503310  \n",
       "\n",
       "[2239 rows x 6 columns]"
      ]
     },
     "execution_count": 55,
     "metadata": {},
     "output_type": "execute_result"
    }
   ],
   "source": [
    "df_scaled = pd.DataFrame(X_scaled, columns=to_scale)\n",
    "df_scaled"
   ]
  },
  {
   "cell_type": "code",
   "execution_count": 56,
   "metadata": {},
   "outputs": [
    {
     "data": {
      "text/html": [
       "<div>\n",
       "<style scoped>\n",
       "    .dataframe tbody tr th:only-of-type {\n",
       "        vertical-align: middle;\n",
       "    }\n",
       "\n",
       "    .dataframe tbody tr th {\n",
       "        vertical-align: top;\n",
       "    }\n",
       "\n",
       "    .dataframe thead th {\n",
       "        text-align: right;\n",
       "    }\n",
       "</style>\n",
       "<table border=\"1\" class=\"dataframe\">\n",
       "  <thead>\n",
       "    <tr style=\"text-align: right;\">\n",
       "      <th></th>\n",
       "      <th>complain</th>\n",
       "      <th>age</th>\n",
       "      <th>responces</th>\n",
       "      <th>teen_kids</th>\n",
       "      <th>education_fully_Graduated</th>\n",
       "      <th>education_under_Graduated</th>\n",
       "      <th>marital_status_Partner</th>\n",
       "      <th>marital_status_Single</th>\n",
       "      <th>income</th>\n",
       "      <th>recency</th>\n",
       "      <th>numwebvisitsmonth</th>\n",
       "      <th>enrolment_days</th>\n",
       "      <th>expences</th>\n",
       "      <th>purchases</th>\n",
       "    </tr>\n",
       "  </thead>\n",
       "  <tbody>\n",
       "    <tr>\n",
       "      <th>0</th>\n",
       "      <td>0.0</td>\n",
       "      <td>3.0</td>\n",
       "      <td>1.0</td>\n",
       "      <td>0.0</td>\n",
       "      <td>1.0</td>\n",
       "      <td>0.0</td>\n",
       "      <td>0.0</td>\n",
       "      <td>1.0</td>\n",
       "      <td>0.288013</td>\n",
       "      <td>0.306624</td>\n",
       "      <td>0.693887</td>\n",
       "      <td>1.976802</td>\n",
       "      <td>1.678944</td>\n",
       "      <td>1.320381</td>\n",
       "    </tr>\n",
       "    <tr>\n",
       "      <th>1</th>\n",
       "      <td>0.0</td>\n",
       "      <td>4.0</td>\n",
       "      <td>0.0</td>\n",
       "      <td>2.0</td>\n",
       "      <td>1.0</td>\n",
       "      <td>0.0</td>\n",
       "      <td>0.0</td>\n",
       "      <td>1.0</td>\n",
       "      <td>-0.262958</td>\n",
       "      <td>-0.384051</td>\n",
       "      <td>-0.130311</td>\n",
       "      <td>-1.666507</td>\n",
       "      <td>-0.961639</td>\n",
       "      <td>-1.154628</td>\n",
       "    </tr>\n",
       "    <tr>\n",
       "      <th>2</th>\n",
       "      <td>0.0</td>\n",
       "      <td>3.0</td>\n",
       "      <td>0.0</td>\n",
       "      <td>0.0</td>\n",
       "      <td>1.0</td>\n",
       "      <td>0.0</td>\n",
       "      <td>1.0</td>\n",
       "      <td>0.0</td>\n",
       "      <td>0.917515</td>\n",
       "      <td>-0.798456</td>\n",
       "      <td>-0.542410</td>\n",
       "      <td>-0.172147</td>\n",
       "      <td>0.282258</td>\n",
       "      <td>0.799327</td>\n",
       "    </tr>\n",
       "    <tr>\n",
       "      <th>3</th>\n",
       "      <td>0.0</td>\n",
       "      <td>1.0</td>\n",
       "      <td>0.0</td>\n",
       "      <td>1.0</td>\n",
       "      <td>1.0</td>\n",
       "      <td>0.0</td>\n",
       "      <td>1.0</td>\n",
       "      <td>0.0</td>\n",
       "      <td>-1.183175</td>\n",
       "      <td>-0.798456</td>\n",
       "      <td>0.281788</td>\n",
       "      <td>-1.924897</td>\n",
       "      <td>-0.918460</td>\n",
       "      <td>-0.894101</td>\n",
       "    </tr>\n",
       "    <tr>\n",
       "      <th>4</th>\n",
       "      <td>0.0</td>\n",
       "      <td>1.0</td>\n",
       "      <td>0.0</td>\n",
       "      <td>1.0</td>\n",
       "      <td>1.0</td>\n",
       "      <td>0.0</td>\n",
       "      <td>1.0</td>\n",
       "      <td>0.0</td>\n",
       "      <td>0.295254</td>\n",
       "      <td>1.549838</td>\n",
       "      <td>-0.130311</td>\n",
       "      <td>-0.822430</td>\n",
       "      <td>-0.305645</td>\n",
       "      <td>0.538799</td>\n",
       "    </tr>\n",
       "  </tbody>\n",
       "</table>\n",
       "</div>"
      ],
      "text/plain": [
       "   complain  age  responces  teen_kids  education_fully_Graduated  \\\n",
       "0       0.0  3.0        1.0        0.0                        1.0   \n",
       "1       0.0  4.0        0.0        2.0                        1.0   \n",
       "2       0.0  3.0        0.0        0.0                        1.0   \n",
       "3       0.0  1.0        0.0        1.0                        1.0   \n",
       "4       0.0  1.0        0.0        1.0                        1.0   \n",
       "\n",
       "   education_under_Graduated  marital_status_Partner  marital_status_Single  \\\n",
       "0                        0.0                     0.0                    1.0   \n",
       "1                        0.0                     0.0                    1.0   \n",
       "2                        0.0                     1.0                    0.0   \n",
       "3                        0.0                     1.0                    0.0   \n",
       "4                        0.0                     1.0                    0.0   \n",
       "\n",
       "     income   recency  numwebvisitsmonth  enrolment_days  expences  purchases  \n",
       "0  0.288013  0.306624           0.693887        1.976802  1.678944   1.320381  \n",
       "1 -0.262958 -0.384051          -0.130311       -1.666507 -0.961639  -1.154628  \n",
       "2  0.917515 -0.798456          -0.542410       -0.172147  0.282258   0.799327  \n",
       "3 -1.183175 -0.798456           0.281788       -1.924897 -0.918460  -0.894101  \n",
       "4  0.295254  1.549838          -0.130311       -0.822430 -0.305645   0.538799  "
      ]
     },
     "execution_count": 56,
     "metadata": {},
     "output_type": "execute_result"
    }
   ],
   "source": [
    "df_final = pd.concat([df_encoded.drop(to_scale, axis=1), df_scaled], axis=1)\n",
    "df_final.head()"
   ]
  },
  {
   "cell_type": "code",
   "execution_count": 57,
   "metadata": {},
   "outputs": [],
   "source": [
    "df_final.dropna(inplace = True)"
   ]
  },
  {
   "cell_type": "markdown",
   "metadata": {},
   "source": [
    "## K-means for clustering"
   ]
  },
  {
   "cell_type": "code",
   "execution_count": 58,
   "metadata": {},
   "outputs": [
    {
     "data": {
      "image/png": "[encoded data removed]",
      "text/plain": [
       "<Figure size 576x396 with 2 Axes>"
      ]
     },
     "metadata": {},
     "output_type": "display_data"
    },
    {
     "data": {
      "text/plain": [
       "<AxesSubplot:title={'center':'Distortion Score Elbow for KMeans Clustering'}, xlabel='k', ylabel='distortion score'>"
      ]
     },
     "execution_count": 58,
     "metadata": {},
     "output_type": "execute_result"
    }
   ],
   "source": [
    "\n",
    "model = KMeans(init = 'k-means++')\n",
    "visualizer = KElbowVisualizer(model, k = 10, random_state = 42)\n",
    "\n",
    "visualizer.fit(df_final)\n",
    "visualizer.show()"
   ]
  },
  {
   "cell_type": "markdown",
   "metadata": {},
   "source": [
    "### The result indicates that we have 4 clusters "
   ]
  },
  {
   "cell_type": "code",
   "execution_count": 65,
   "metadata": {},
   "outputs": [],
   "source": [
    "kmeans = KMeans(n_clusters=3, max_iter=2000, algorithm = 'auto')\n",
    "fitted = kmeans.fit(df_final)\n",
    "prediction = kmeans.predict(df_final)\n",
    "df_final['Cluster'] = prediction+1"
   ]
  },
  {
   "cell_type": "markdown",
   "metadata": {},
   "source": [
    "### I tried with both 4 and 3 clusters and 3 makes more sense!"
   ]
  },
  {
   "cell_type": "code",
   "execution_count": 66,
   "metadata": {},
   "outputs": [
    {
     "data": {
      "image/png": "[encoded data removed]",
      "text/plain": [
       "<Figure size 576x396 with 1 Axes>"
      ]
     },
     "metadata": {},
     "output_type": "display_data"
    }
   ],
   "source": [
    "plt.scatter(x=df_final[\"income\"], y=df_final[\"expences\"],\n",
    "            c=df_final[\"Cluster\"], s = 20 , cmap='viridis')\n",
    "            \n",
    "plt.xlabel('Income')\n",
    "plt.ylabel('Expenses')\n",
    "plt.show()"
   ]
  },
  {
   "cell_type": "code",
   "execution_count": 61,
   "metadata": {},
   "outputs": [],
   "source": [
    "import sys\n",
    "import warnings\n",
    "\n",
    "if not sys.warnoptions:\n",
    "    warnings.simplefilter(\"ignore\")"
   ]
  },
  {
   "cell_type": "markdown",
   "metadata": {},
   "source": [
    "## Lets try another clustering method: "
   ]
  },
  {
   "cell_type": "code",
   "execution_count": 62,
   "metadata": {},
   "outputs": [
    {
     "data": {
      "image/png": "[encoded data removed]",
      "text/plain": [
       "<Figure size 576x396 with 1 Axes>"
      ]
     },
     "metadata": {},
     "output_type": "display_data"
    }
   ],
   "source": [
    "# birch clustering\n",
    "from numpy import unique\n",
    "from numpy import where\n",
    "from sklearn.datasets import make_classification\n",
    "from sklearn.cluster import Birch\n",
    "\n",
    "# define dataset\n",
    "X, _ = make_classification(n_samples=df_final.shape[0], n_features=df_final.shape[1], n_informative=2, n_redundant=0, n_clusters_per_class=1, random_state=4)\n",
    "# define the model\n",
    "model = Birch(threshold=0.01, n_clusters=3)\n",
    "# fit the model\n",
    "model.fit(X)\n",
    "# assign a cluster to each example\n",
    "yhat = model.predict(df_final)\n",
    "# retrieve unique clusters\n",
    "clusters = unique(yhat)\n",
    "# create scatter plot for samples from each cluster\n",
    "for cluster in clusters:\n",
    "\t# get row indexes for samples with this cluster\n",
    "\trow_ix = where(yhat == cluster)\n",
    "\t# create scatter of these samples\n",
    "\tplt.scatter(X[row_ix, 0], X[row_ix, 1])\n",
    "# show the plot\n",
    "plt.show()"
   ]
  },
  {
   "cell_type": "markdown",
   "metadata": {},
   "source": [
    "### The result does not look like a good clustering! so K-means whould be a better choice. I also tried Spectral Clustering and Optics. not acceptable clustering!"
   ]
  },
  {
   "cell_type": "code",
   "execution_count": null,
   "metadata": {},
   "outputs": [],
   "source": []
  }
 ],
 "metadata": {
  "interpreter": {
   "hash": "ac59ebe37160ed0dfa835113d9b8498d9f09ceb179beaac4002f036b9467c963"
  },
  "kernelspec": {
   "display_name": "Python 3.9.7 64-bit",
   "name": "python3"
  },
  "language_info": {
   "codemirror_mode": {
    "name": "ipython",
    "version": 3
   },
   "file_extension": ".py",
   "mimetype": "text/x-python",
   "name": "python",
   "nbconvert_exporter": "python",
   "pygments_lexer": "ipython3",
   "version": "3.9.7"
  },
  "orig_nbformat": 4
 },
 "nbformat": 4,
 "nbformat_minor": 2
}
